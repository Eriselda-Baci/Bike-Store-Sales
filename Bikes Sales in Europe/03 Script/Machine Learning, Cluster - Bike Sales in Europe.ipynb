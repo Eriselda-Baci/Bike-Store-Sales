{
 "cells": [
  {
   "cell_type": "markdown",
   "id": "cb0e7d7f",
   "metadata": {},
   "source": [
    "## Machine Learning, Cluster - Bike Sales in Europe\n",
    "\n",
    "#### 1. Importing libraries and data frame\n",
    "#### 2. The elbow technique\n",
    "#### 3. k-means clustering"
   ]
  },
  {
   "cell_type": "markdown",
   "id": "2fa034ba",
   "metadata": {},
   "source": [
    "## 1. Importing libraries and data frame"
   ]
  },
  {
   "cell_type": "code",
   "execution_count": 1,
   "id": "29a9285d",
   "metadata": {},
   "outputs": [],
   "source": [
    "#import libraries\n",
    "\n",
    "import pandas as pd\n",
    "import numpy as np\n",
    "import seaborn as sns\n",
    "import matplotlib\n",
    "import matplotlib.pyplot as plt\n",
    "import os\n",
    "import sklearn\n",
    "from sklearn.cluster import KMeans # Here is where you import the k-means algorithm from scikit-learn.\n",
    "import pylab as pl # PyLab is a convenience module that bulk imports matplotlib.\n",
    "%matplotlib inline"
   ]
  },
  {
   "cell_type": "code",
   "execution_count": 2,
   "id": "d585ac14",
   "metadata": {},
   "outputs": [
    {
     "data": {
      "text/plain": [
       "'/Users/eriseldabaci/Desktop/CareerFoundry/Advanced Analytics & Dashboard Design/Bikes Sales in Europe'"
      ]
     },
     "execution_count": 2,
     "metadata": {},
     "output_type": "execute_result"
    }
   ],
   "source": [
    "# Define path\n",
    "\n",
    "path = r'/Users/eriseldabaci/Desktop/CareerFoundry/Advanced Analytics & Dashboard Design/Bikes Sales in Europe'\n",
    "\n",
    "path"
   ]
  },
  {
   "cell_type": "code",
   "execution_count": 3,
   "id": "585638d6",
   "metadata": {},
   "outputs": [],
   "source": [
    "df = pd.read_csv(os.path.join(path,'02 Data','Prepare Data', 'bike_sales.csv'),index_col=0)"
   ]
  },
  {
   "cell_type": "code",
   "execution_count": 4,
   "id": "2bc369e0",
   "metadata": {},
   "outputs": [
    {
     "data": {
      "text/plain": [
       "(112036, 17)"
      ]
     },
     "execution_count": 4,
     "metadata": {},
     "output_type": "execute_result"
    }
   ],
   "source": [
    "df.shape"
   ]
  },
  {
   "cell_type": "code",
   "execution_count": 5,
   "id": "02878c81",
   "metadata": {},
   "outputs": [
    {
     "name": "stdout",
     "output_type": "stream",
     "text": [
      "<class 'pandas.core.frame.DataFrame'>\n",
      "Int64Index: 112036 entries, 0 to 113035\n",
      "Data columns (total 17 columns):\n",
      " #   Column            Non-Null Count   Dtype \n",
      "---  ------            --------------   ----- \n",
      " 0   Day               112036 non-null  int64 \n",
      " 1   Month             112036 non-null  object\n",
      " 2   Year              112036 non-null  int64 \n",
      " 3   Customer_Age      112036 non-null  int64 \n",
      " 4   Age_Group         112036 non-null  object\n",
      " 5   Customer_Gender   112036 non-null  object\n",
      " 6   Country           112036 non-null  object\n",
      " 7   State             112036 non-null  object\n",
      " 8   Product_Category  112036 non-null  object\n",
      " 9   Sub_Category      112036 non-null  object\n",
      " 10  Product           112036 non-null  object\n",
      " 11  Order_Quantity    112036 non-null  int64 \n",
      " 12  Unit_Cost         112036 non-null  int64 \n",
      " 13  Unit_Price        112036 non-null  int64 \n",
      " 14  Profit            112036 non-null  int64 \n",
      " 15  Cost              112036 non-null  int64 \n",
      " 16  Revenue           112036 non-null  int64 \n",
      "dtypes: int64(9), object(8)\n",
      "memory usage: 15.4+ MB\n"
     ]
    }
   ],
   "source": [
    "df.info()"
   ]
  },
  {
   "cell_type": "code",
   "execution_count": 6,
   "id": "d5b469e0",
   "metadata": {},
   "outputs": [
    {
     "data": {
      "text/plain": [
       "Day                  int64\n",
       "Month               object\n",
       "Year                 int64\n",
       "Customer_Age         int64\n",
       "Age_Group           object\n",
       "Customer_Gender     object\n",
       "Country             object\n",
       "State               object\n",
       "Product_Category    object\n",
       "Sub_Category        object\n",
       "Product             object\n",
       "Order_Quantity       int64\n",
       "Unit_Cost            int64\n",
       "Unit_Price           int64\n",
       "Profit               int64\n",
       "Cost                 int64\n",
       "Revenue              int64\n",
       "dtype: object"
      ]
     },
     "execution_count": 6,
     "metadata": {},
     "output_type": "execute_result"
    }
   ],
   "source": [
    "df.dtypes"
   ]
  },
  {
   "cell_type": "markdown",
   "id": "0a6dfcf4",
   "metadata": {},
   "source": [
    " ### Correlation HeatMap"
   ]
  },
  {
   "cell_type": "code",
   "execution_count": 7,
   "id": "e3e50ad8",
   "metadata": {},
   "outputs": [
    {
     "data": {
      "text/html": [
       "<div>\n",
       "<style scoped>\n",
       "    .dataframe tbody tr th:only-of-type {\n",
       "        vertical-align: middle;\n",
       "    }\n",
       "\n",
       "    .dataframe tbody tr th {\n",
       "        vertical-align: top;\n",
       "    }\n",
       "\n",
       "    .dataframe thead th {\n",
       "        text-align: right;\n",
       "    }\n",
       "</style>\n",
       "<table border=\"1\" class=\"dataframe\">\n",
       "  <thead>\n",
       "    <tr style=\"text-align: right;\">\n",
       "      <th></th>\n",
       "      <th>Customer_Age</th>\n",
       "      <th>Order_Quantity</th>\n",
       "      <th>Unit_Cost</th>\n",
       "      <th>Unit_Price</th>\n",
       "      <th>Profit</th>\n",
       "      <th>Cost</th>\n",
       "      <th>Revenue</th>\n",
       "    </tr>\n",
       "  </thead>\n",
       "  <tbody>\n",
       "    <tr>\n",
       "      <th>0</th>\n",
       "      <td>19</td>\n",
       "      <td>8</td>\n",
       "      <td>45</td>\n",
       "      <td>120</td>\n",
       "      <td>590</td>\n",
       "      <td>360</td>\n",
       "      <td>960</td>\n",
       "    </tr>\n",
       "    <tr>\n",
       "      <th>1</th>\n",
       "      <td>19</td>\n",
       "      <td>8</td>\n",
       "      <td>45</td>\n",
       "      <td>120</td>\n",
       "      <td>590</td>\n",
       "      <td>360</td>\n",
       "      <td>960</td>\n",
       "    </tr>\n",
       "    <tr>\n",
       "      <th>2</th>\n",
       "      <td>49</td>\n",
       "      <td>23</td>\n",
       "      <td>45</td>\n",
       "      <td>120</td>\n",
       "      <td>1366</td>\n",
       "      <td>1035</td>\n",
       "      <td>2760</td>\n",
       "    </tr>\n",
       "    <tr>\n",
       "      <th>3</th>\n",
       "      <td>49</td>\n",
       "      <td>20</td>\n",
       "      <td>45</td>\n",
       "      <td>120</td>\n",
       "      <td>1188</td>\n",
       "      <td>900</td>\n",
       "      <td>2400</td>\n",
       "    </tr>\n",
       "    <tr>\n",
       "      <th>4</th>\n",
       "      <td>47</td>\n",
       "      <td>4</td>\n",
       "      <td>45</td>\n",
       "      <td>120</td>\n",
       "      <td>238</td>\n",
       "      <td>180</td>\n",
       "      <td>480</td>\n",
       "    </tr>\n",
       "    <tr>\n",
       "      <th>...</th>\n",
       "      <td>...</td>\n",
       "      <td>...</td>\n",
       "      <td>...</td>\n",
       "      <td>...</td>\n",
       "      <td>...</td>\n",
       "      <td>...</td>\n",
       "      <td>...</td>\n",
       "    </tr>\n",
       "    <tr>\n",
       "      <th>113031</th>\n",
       "      <td>41</td>\n",
       "      <td>3</td>\n",
       "      <td>24</td>\n",
       "      <td>64</td>\n",
       "      <td>112</td>\n",
       "      <td>72</td>\n",
       "      <td>192</td>\n",
       "    </tr>\n",
       "    <tr>\n",
       "      <th>113032</th>\n",
       "      <td>18</td>\n",
       "      <td>22</td>\n",
       "      <td>24</td>\n",
       "      <td>64</td>\n",
       "      <td>655</td>\n",
       "      <td>528</td>\n",
       "      <td>1408</td>\n",
       "    </tr>\n",
       "    <tr>\n",
       "      <th>113033</th>\n",
       "      <td>18</td>\n",
       "      <td>22</td>\n",
       "      <td>24</td>\n",
       "      <td>64</td>\n",
       "      <td>655</td>\n",
       "      <td>528</td>\n",
       "      <td>1408</td>\n",
       "    </tr>\n",
       "    <tr>\n",
       "      <th>113034</th>\n",
       "      <td>37</td>\n",
       "      <td>24</td>\n",
       "      <td>24</td>\n",
       "      <td>64</td>\n",
       "      <td>684</td>\n",
       "      <td>576</td>\n",
       "      <td>1536</td>\n",
       "    </tr>\n",
       "    <tr>\n",
       "      <th>113035</th>\n",
       "      <td>37</td>\n",
       "      <td>23</td>\n",
       "      <td>24</td>\n",
       "      <td>64</td>\n",
       "      <td>655</td>\n",
       "      <td>552</td>\n",
       "      <td>1472</td>\n",
       "    </tr>\n",
       "  </tbody>\n",
       "</table>\n",
       "<p>112036 rows × 7 columns</p>\n",
       "</div>"
      ],
      "text/plain": [
       "        Customer_Age  Order_Quantity  Unit_Cost  Unit_Price  Profit  Cost  \\\n",
       "0                 19               8         45         120     590   360   \n",
       "1                 19               8         45         120     590   360   \n",
       "2                 49              23         45         120    1366  1035   \n",
       "3                 49              20         45         120    1188   900   \n",
       "4                 47               4         45         120     238   180   \n",
       "...              ...             ...        ...         ...     ...   ...   \n",
       "113031            41               3         24          64     112    72   \n",
       "113032            18              22         24          64     655   528   \n",
       "113033            18              22         24          64     655   528   \n",
       "113034            37              24         24          64     684   576   \n",
       "113035            37              23         24          64     655   552   \n",
       "\n",
       "        Revenue  \n",
       "0           960  \n",
       "1           960  \n",
       "2          2760  \n",
       "3          2400  \n",
       "4           480  \n",
       "...         ...  \n",
       "113031      192  \n",
       "113032     1408  \n",
       "113033     1408  \n",
       "113034     1536  \n",
       "113035     1472  \n",
       "\n",
       "[112036 rows x 7 columns]"
      ]
     },
     "execution_count": 7,
     "metadata": {},
     "output_type": "execute_result"
    }
   ],
   "source": [
    "# Create sub for to pick out variable\n",
    "\n",
    "sub = df[['Customer_Age','Order_Quantity','Unit_Cost','Unit_Price','Profit','Cost','Revenue']]\n",
    "\n",
    "# Chek the output\n",
    "\n",
    "sub"
   ]
  },
  {
   "cell_type": "code",
   "execution_count": 8,
   "id": "55539cd5",
   "metadata": {},
   "outputs": [
    {
     "data": {
      "image/png": "[encoded data removed]",
      "text/plain": [
       "<Figure size 720x720 with 2 Axes>"
      ]
     },
     "metadata": {
      "needs_background": "light"
     },
     "output_type": "display_data"
    }
   ],
   "source": [
    "# Create a subplot with matplotlib\n",
    "\n",
    "f,ax = plt.subplots(figsize=(10,10))\n",
    "\n",
    "# Create the correlation heatmap in seaborn by applying a heatmap onto the correlation matrix and the subplots defined above.\n",
    "\n",
    "corr = sns.heatmap(sub.corr(), annot = True, ax = ax)"
   ]
  },
  {
   "cell_type": "markdown",
   "id": "6d5c733a",
   "metadata": {},
   "source": [
    "## 2. The elbow technique"
   ]
  },
  {
   "cell_type": "code",
   "execution_count": 9,
   "id": "66b548f5",
   "metadata": {},
   "outputs": [],
   "source": [
    "num_cl = range(1, 10) # Defines the range of potential clusters in the data.\n",
    "kmeans = [KMeans(n_clusters=i) for i in num_cl] # Defines k-means clusters in the range assigned above."
   ]
  },
  {
   "cell_type": "code",
   "execution_count": 10,
   "id": "5f1b75ca",
   "metadata": {},
   "outputs": [
    {
     "data": {
      "text/plain": [
       "[-482632110737.0956,\n",
       " -155241618049.12732,\n",
       " -80553657210.93065,\n",
       " -62409170954.96447,\n",
       " -45583539532.74282,\n",
       " -35675241805.279526,\n",
       " -27521977897.523796,\n",
       " -22567830149.524143,\n",
       " -18013489457.37433]"
      ]
     },
     "execution_count": 10,
     "metadata": {},
     "output_type": "execute_result"
    }
   ],
   "source": [
    "score = [kmeans[i].fit(sub).score(sub) for i in range(len(kmeans))] # Creates a score that represents \n",
    "# a rate of variation for the given cluster option.\n",
    "\n",
    "score"
   ]
  },
  {
   "cell_type": "code",
   "execution_count": 11,
   "id": "2f5dee58",
   "metadata": {},
   "outputs": [
    {
     "data": {
      "image/png": "[encoded data removed]",
      "text/plain": [
       "<Figure size 432x288 with 1 Axes>"
      ]
     },
     "metadata": {
      "needs_background": "light"
     },
     "output_type": "display_data"
    }
   ],
   "source": [
    "# Plot the elbow curve using PyLab.\n",
    "\n",
    "pl.plot(num_cl,score)\n",
    "pl.xlabel('Number of Clusters')\n",
    "pl.ylabel('Score')\n",
    "pl.title('Elbow Curve')\n",
    "pl.show() # Then rises only slightly after 5 and the noptimal count for cluster is 5."
   ]
  },
  {
   "cell_type": "markdown",
   "id": "66ccee5c",
   "metadata": {},
   "source": [
    "#### Note: Based on breakdown the number of cluster will be 3. "
   ]
  },
  {
   "cell_type": "code",
   "execution_count": 12,
   "id": "78a53252",
   "metadata": {},
   "outputs": [],
   "source": [
    "# Create the k-means object\n",
    "\n",
    "kmeans = KMeans(n_clusters = 3) "
   ]
  },
  {
   "cell_type": "code",
   "execution_count": 13,
   "id": "21abc7fc",
   "metadata": {},
   "outputs": [
    {
     "data": {
      "text/plain": [
       "KMeans(n_clusters=3)"
      ]
     },
     "execution_count": 13,
     "metadata": {},
     "output_type": "execute_result"
    }
   ],
   "source": [
    "# Fit the K-means object to the data\n",
    "kmeans.fit(sub)"
   ]
  },
  {
   "cell_type": "code",
   "execution_count": 16,
   "id": "cbeb4db8",
   "metadata": {},
   "outputs": [
    {
     "name": "stderr",
     "output_type": "stream",
     "text": [
      "/var/folders/0x/gf5nsq01679_pzl997xhrwfh0000gp/T/ipykernel_33772/1482735438.py:1: SettingWithCopyWarning: \n",
      "A value is trying to be set on a copy of a slice from a DataFrame.\n",
      "Try using .loc[row_indexer,col_indexer] = value instead\n",
      "\n",
      "See the caveats in the documentation: https://pandas.pydata.org/pandas-docs/stable/user_guide/indexing.html#returning-a-view-versus-a-copy\n",
      "  sub['clusters'] = kmeans.fit_predict(sub)\n"
     ]
    },
    {
     "data": {
      "text/html": [
       "<div>\n",
       "<style scoped>\n",
       "    .dataframe tbody tr th:only-of-type {\n",
       "        vertical-align: middle;\n",
       "    }\n",
       "\n",
       "    .dataframe tbody tr th {\n",
       "        vertical-align: top;\n",
       "    }\n",
       "\n",
       "    .dataframe thead th {\n",
       "        text-align: right;\n",
       "    }\n",
       "</style>\n",
       "<table border=\"1\" class=\"dataframe\">\n",
       "  <thead>\n",
       "    <tr style=\"text-align: right;\">\n",
       "      <th></th>\n",
       "      <th>Customer_Age</th>\n",
       "      <th>Order_Quantity</th>\n",
       "      <th>Unit_Cost</th>\n",
       "      <th>Unit_Price</th>\n",
       "      <th>Profit</th>\n",
       "      <th>Cost</th>\n",
       "      <th>Revenue</th>\n",
       "      <th>clusters</th>\n",
       "    </tr>\n",
       "  </thead>\n",
       "  <tbody>\n",
       "    <tr>\n",
       "      <th>0</th>\n",
       "      <td>19</td>\n",
       "      <td>8</td>\n",
       "      <td>45</td>\n",
       "      <td>120</td>\n",
       "      <td>590</td>\n",
       "      <td>360</td>\n",
       "      <td>960</td>\n",
       "      <td>0</td>\n",
       "    </tr>\n",
       "    <tr>\n",
       "      <th>1</th>\n",
       "      <td>19</td>\n",
       "      <td>8</td>\n",
       "      <td>45</td>\n",
       "      <td>120</td>\n",
       "      <td>590</td>\n",
       "      <td>360</td>\n",
       "      <td>960</td>\n",
       "      <td>0</td>\n",
       "    </tr>\n",
       "    <tr>\n",
       "      <th>2</th>\n",
       "      <td>49</td>\n",
       "      <td>23</td>\n",
       "      <td>45</td>\n",
       "      <td>120</td>\n",
       "      <td>1366</td>\n",
       "      <td>1035</td>\n",
       "      <td>2760</td>\n",
       "      <td>1</td>\n",
       "    </tr>\n",
       "    <tr>\n",
       "      <th>3</th>\n",
       "      <td>49</td>\n",
       "      <td>20</td>\n",
       "      <td>45</td>\n",
       "      <td>120</td>\n",
       "      <td>1188</td>\n",
       "      <td>900</td>\n",
       "      <td>2400</td>\n",
       "      <td>0</td>\n",
       "    </tr>\n",
       "    <tr>\n",
       "      <th>4</th>\n",
       "      <td>47</td>\n",
       "      <td>4</td>\n",
       "      <td>45</td>\n",
       "      <td>120</td>\n",
       "      <td>238</td>\n",
       "      <td>180</td>\n",
       "      <td>480</td>\n",
       "      <td>0</td>\n",
       "    </tr>\n",
       "    <tr>\n",
       "      <th>...</th>\n",
       "      <td>...</td>\n",
       "      <td>...</td>\n",
       "      <td>...</td>\n",
       "      <td>...</td>\n",
       "      <td>...</td>\n",
       "      <td>...</td>\n",
       "      <td>...</td>\n",
       "      <td>...</td>\n",
       "    </tr>\n",
       "    <tr>\n",
       "      <th>113031</th>\n",
       "      <td>41</td>\n",
       "      <td>3</td>\n",
       "      <td>24</td>\n",
       "      <td>64</td>\n",
       "      <td>112</td>\n",
       "      <td>72</td>\n",
       "      <td>192</td>\n",
       "      <td>0</td>\n",
       "    </tr>\n",
       "    <tr>\n",
       "      <th>113032</th>\n",
       "      <td>18</td>\n",
       "      <td>22</td>\n",
       "      <td>24</td>\n",
       "      <td>64</td>\n",
       "      <td>655</td>\n",
       "      <td>528</td>\n",
       "      <td>1408</td>\n",
       "      <td>0</td>\n",
       "    </tr>\n",
       "    <tr>\n",
       "      <th>113033</th>\n",
       "      <td>18</td>\n",
       "      <td>22</td>\n",
       "      <td>24</td>\n",
       "      <td>64</td>\n",
       "      <td>655</td>\n",
       "      <td>528</td>\n",
       "      <td>1408</td>\n",
       "      <td>0</td>\n",
       "    </tr>\n",
       "    <tr>\n",
       "      <th>113034</th>\n",
       "      <td>37</td>\n",
       "      <td>24</td>\n",
       "      <td>24</td>\n",
       "      <td>64</td>\n",
       "      <td>684</td>\n",
       "      <td>576</td>\n",
       "      <td>1536</td>\n",
       "      <td>0</td>\n",
       "    </tr>\n",
       "    <tr>\n",
       "      <th>113035</th>\n",
       "      <td>37</td>\n",
       "      <td>23</td>\n",
       "      <td>24</td>\n",
       "      <td>64</td>\n",
       "      <td>655</td>\n",
       "      <td>552</td>\n",
       "      <td>1472</td>\n",
       "      <td>0</td>\n",
       "    </tr>\n",
       "  </tbody>\n",
       "</table>\n",
       "<p>112036 rows × 8 columns</p>\n",
       "</div>"
      ],
      "text/plain": [
       "        Customer_Age  Order_Quantity  Unit_Cost  Unit_Price  Profit  Cost  \\\n",
       "0                 19               8         45         120     590   360   \n",
       "1                 19               8         45         120     590   360   \n",
       "2                 49              23         45         120    1366  1035   \n",
       "3                 49              20         45         120    1188   900   \n",
       "4                 47               4         45         120     238   180   \n",
       "...              ...             ...        ...         ...     ...   ...   \n",
       "113031            41               3         24          64     112    72   \n",
       "113032            18              22         24          64     655   528   \n",
       "113033            18              22         24          64     655   528   \n",
       "113034            37              24         24          64     684   576   \n",
       "113035            37              23         24          64     655   552   \n",
       "\n",
       "        Revenue  clusters  \n",
       "0           960         0  \n",
       "1           960         0  \n",
       "2          2760         1  \n",
       "3          2400         0  \n",
       "4           480         0  \n",
       "...         ...       ...  \n",
       "113031      192         0  \n",
       "113032     1408         0  \n",
       "113033     1408         0  \n",
       "113034     1536         0  \n",
       "113035     1472         0  \n",
       "\n",
       "[112036 rows x 8 columns]"
      ]
     },
     "execution_count": 16,
     "metadata": {},
     "output_type": "execute_result"
    }
   ],
   "source": [
    "sub['clusters'] = kmeans.fit_predict(sub)\n",
    "\n",
    "sub"
   ]
  },
  {
   "cell_type": "code",
   "execution_count": 21,
   "id": "fd30eeba",
   "metadata": {},
   "outputs": [],
   "source": [
    "# Get the cluster labels\n",
    "labels = kmeans.labels_"
   ]
  },
  {
   "cell_type": "code",
   "execution_count": 22,
   "id": "5ba40923",
   "metadata": {},
   "outputs": [],
   "source": [
    "df['Cluster'] = labels"
   ]
  },
  {
   "cell_type": "code",
   "execution_count": 17,
   "id": "875b3f15",
   "metadata": {},
   "outputs": [
    {
     "data": {
      "text/plain": [
       "0    94744\n",
       "1    15047\n",
       "2     2245\n",
       "Name: clusters, dtype: int64"
      ]
     },
     "execution_count": 17,
     "metadata": {},
     "output_type": "execute_result"
    }
   ],
   "source": [
    "sub['clusters'].value_counts()"
   ]
  },
  {
   "cell_type": "code",
   "execution_count": 18,
   "id": "e15f1edf",
   "metadata": {},
   "outputs": [
    {
     "data": {
      "text/plain": [
       "Text(0, 0.5, 'Profit')"
      ]
     },
     "execution_count": 18,
     "metadata": {},
     "output_type": "execute_result"
    },
    {
     "data": {
      "image/png": "[encoded data removed]",
      "text/plain": [
       "<Figure size 864x576 with 1 Axes>"
      ]
     },
     "metadata": {
      "needs_background": "light"
     },
     "output_type": "display_data"
    }
   ],
   "source": [
    "#Plot the clusters for the \"cleanliness_rating\" and \"satisfaction_rating\" variables.\n",
    "\n",
    "plt.figure(figsize=(12,8))\n",
    "ax = sns.scatterplot(x=sub['Unit_Cost'], y=sub['Profit'], hue=kmeans.labels_, s=100) \n",
    "# Here, you're subsetting `X` for the x and y arguments to avoid using their labels. \n",
    "# `hue` takes the value of the attribute `kmeans.labels_`, which is the result of running the k-means algorithm.\n",
    "# `s` represents the size of the points you want to see in the plot.\n",
    "\n",
    "ax.grid(False) # This removes the grid from the background.\n",
    "plt.xlabel('Unit_Cost') # Label x-axis.\n",
    "plt.ylabel('Profit') # Label y-axis.\n"
   ]
  },
  {
   "cell_type": "code",
   "execution_count": 19,
   "id": "5afd806f",
   "metadata": {},
   "outputs": [
    {
     "name": "stderr",
     "output_type": "stream",
     "text": [
      "/var/folders/0x/gf5nsq01679_pzl997xhrwfh0000gp/T/ipykernel_33772/536329239.py:1: SettingWithCopyWarning: \n",
      "A value is trying to be set on a copy of a slice from a DataFrame.\n",
      "Try using .loc[row_indexer,col_indexer] = value instead\n",
      "\n",
      "See the caveats in the documentation: https://pandas.pydata.org/pandas-docs/stable/user_guide/indexing.html#returning-a-view-versus-a-copy\n",
      "  sub.loc[sub['clusters'] == 2, 'cluster'] = 'darkpurple'\n"
     ]
    }
   ],
   "source": [
    "sub.loc[sub['clusters'] == 2, 'cluster'] = 'darkpurple'\n",
    "sub.loc[sub['clusters'] == 1, 'cluster'] = 'purple'\n",
    "sub.loc[sub['clusters'] == 0, 'cluster'] = 'lightpink'"
   ]
  },
  {
   "cell_type": "markdown",
   "id": "ca73ae60",
   "metadata": {},
   "source": [
    "##### Note: The result shows that the data has been divided into three clusters, labeled 0, 1, and 2, based on the similarity of the values for Unit Cost and Profit across different data points. This information can be used to inform business decisions, such as product pricing or cost reduction strategies, by identifying which product lines or business segments are most profitable and which ones may need to be re-evaluated or optimized. Additionally, the company can use this information to identify areas where it may be able to increase profits by reducing costs, improving efficiencies, or developing new product offerings."
   ]
  },
  {
   "cell_type": "code",
   "execution_count": 20,
   "id": "f1a5f3dd",
   "metadata": {},
   "outputs": [
    {
     "data": {
      "text/html": [
       "<div>\n",
       "<style scoped>\n",
       "    .dataframe tbody tr th:only-of-type {\n",
       "        vertical-align: middle;\n",
       "    }\n",
       "\n",
       "    .dataframe tbody tr th {\n",
       "        vertical-align: top;\n",
       "    }\n",
       "\n",
       "    .dataframe thead tr th {\n",
       "        text-align: left;\n",
       "    }\n",
       "\n",
       "    .dataframe thead tr:last-of-type th {\n",
       "        text-align: right;\n",
       "    }\n",
       "</style>\n",
       "<table border=\"1\" class=\"dataframe\">\n",
       "  <thead>\n",
       "    <tr>\n",
       "      <th></th>\n",
       "      <th colspan=\"3\" halign=\"left\">Unit_Price</th>\n",
       "      <th colspan=\"3\" halign=\"left\">Profit</th>\n",
       "      <th colspan=\"3\" halign=\"left\">Unit_Cost</th>\n",
       "      <th colspan=\"3\" halign=\"left\">Revenue</th>\n",
       "      <th colspan=\"3\" halign=\"left\">Cost</th>\n",
       "    </tr>\n",
       "    <tr>\n",
       "      <th></th>\n",
       "      <th>mean</th>\n",
       "      <th>median</th>\n",
       "      <th>count</th>\n",
       "      <th>mean</th>\n",
       "      <th>median</th>\n",
       "      <th>count</th>\n",
       "      <th>mean</th>\n",
       "      <th>median</th>\n",
       "      <th>count</th>\n",
       "      <th>mean</th>\n",
       "      <th>median</th>\n",
       "      <th>count</th>\n",
       "      <th>mean</th>\n",
       "      <th>median</th>\n",
       "      <th>count</th>\n",
       "    </tr>\n",
       "    <tr>\n",
       "      <th>cluster</th>\n",
       "      <th></th>\n",
       "      <th></th>\n",
       "      <th></th>\n",
       "      <th></th>\n",
       "      <th></th>\n",
       "      <th></th>\n",
       "      <th></th>\n",
       "      <th></th>\n",
       "      <th></th>\n",
       "      <th></th>\n",
       "      <th></th>\n",
       "      <th></th>\n",
       "      <th></th>\n",
       "      <th></th>\n",
       "      <th></th>\n",
       "    </tr>\n",
       "  </thead>\n",
       "  <tbody>\n",
       "    <tr>\n",
       "      <th>darkpurple</th>\n",
       "      <td>2966.692650</td>\n",
       "      <td>3375.0</td>\n",
       "      <td>2245</td>\n",
       "      <td>2366.324722</td>\n",
       "      <td>2322.0</td>\n",
       "      <td>2245</td>\n",
       "      <td>1767.133630</td>\n",
       "      <td>1898.0</td>\n",
       "      <td>2245</td>\n",
       "      <td>8007.291759</td>\n",
       "      <td>7156.0</td>\n",
       "      <td>2245</td>\n",
       "      <td>4762.990200</td>\n",
       "      <td>4342.0</td>\n",
       "      <td>2245</td>\n",
       "    </tr>\n",
       "    <tr>\n",
       "      <th>lightpink</th>\n",
       "      <td>87.986849</td>\n",
       "      <td>10.0</td>\n",
       "      <td>94744</td>\n",
       "      <td>145.286329</td>\n",
       "      <td>68.0</td>\n",
       "      <td>94744</td>\n",
       "      <td>50.866240</td>\n",
       "      <td>7.0</td>\n",
       "      <td>94744</td>\n",
       "      <td>351.979281</td>\n",
       "      <td>150.0</td>\n",
       "      <td>94744</td>\n",
       "      <td>172.632251</td>\n",
       "      <td>63.0</td>\n",
       "      <td>94744</td>\n",
       "    </tr>\n",
       "    <tr>\n",
       "      <th>purple</th>\n",
       "      <td>2382.611683</td>\n",
       "      <td>2320.0</td>\n",
       "      <td>15047</td>\n",
       "      <td>861.888217</td>\n",
       "      <td>807.0</td>\n",
       "      <td>15047</td>\n",
       "      <td>1410.178175</td>\n",
       "      <td>1266.0</td>\n",
       "      <td>15047</td>\n",
       "      <td>2881.922842</td>\n",
       "      <td>2384.0</td>\n",
       "      <td>15047</td>\n",
       "      <td>1710.091713</td>\n",
       "      <td>1482.0</td>\n",
       "      <td>15047</td>\n",
       "    </tr>\n",
       "  </tbody>\n",
       "</table>\n",
       "</div>"
      ],
      "text/plain": [
       "             Unit_Price                      Profit                 \\\n",
       "                   mean  median  count         mean  median  count   \n",
       "cluster                                                              \n",
       "darkpurple  2966.692650  3375.0   2245  2366.324722  2322.0   2245   \n",
       "lightpink     87.986849    10.0  94744   145.286329    68.0  94744   \n",
       "purple      2382.611683  2320.0  15047   861.888217   807.0  15047   \n",
       "\n",
       "              Unit_Cost                     Revenue                 \\\n",
       "                   mean  median  count         mean  median  count   \n",
       "cluster                                                              \n",
       "darkpurple  1767.133630  1898.0   2245  8007.291759  7156.0   2245   \n",
       "lightpink     50.866240     7.0  94744   351.979281   150.0  94744   \n",
       "purple      1410.178175  1266.0  15047  2881.922842  2384.0  15047   \n",
       "\n",
       "                   Cost                 \n",
       "                   mean  median  count  \n",
       "cluster                                 \n",
       "darkpurple  4762.990200  4342.0   2245  \n",
       "lightpink    172.632251    63.0  94744  \n",
       "purple      1710.091713  1482.0  15047  "
      ]
     },
     "execution_count": 20,
     "metadata": {},
     "output_type": "execute_result"
    }
   ],
   "source": [
    "sub.groupby('cluster').agg({'Unit_Price':['mean', 'median', 'count'], \n",
    "                         'Profit':['mean', 'median','count'], \n",
    "                         'Unit_Cost':['mean', 'median','count'],\n",
    "                          'Revenue':['mean', 'median','count'],\n",
    "                          'Cost':['mean', 'median','count']})"
   ]
  },
  {
   "cell_type": "code",
   "execution_count": null,
   "id": "3d30ffdf",
   "metadata": {},
   "outputs": [],
   "source": [
    "data.to_csv('labeled_data.csv', index=False)"
   ]
  },
  {
   "cell_type": "code",
   "execution_count": 23,
   "id": "1c17105b",
   "metadata": {},
   "outputs": [],
   "source": [
    "## Export Data frame CSV file.\n",
    "\n",
    "df.to_csv(os.path.join(path,'02 Data','Prepare Data', 'labeled_data.csv'))"
   ]
  },
  {
   "cell_type": "code",
   "execution_count": 24,
   "id": "3d9260cc",
   "metadata": {},
   "outputs": [
    {
     "data": {
      "text/html": [
       "<div>\n",
       "<style scoped>\n",
       "    .dataframe tbody tr th:only-of-type {\n",
       "        vertical-align: middle;\n",
       "    }\n",
       "\n",
       "    .dataframe tbody tr th {\n",
       "        vertical-align: top;\n",
       "    }\n",
       "\n",
       "    .dataframe thead th {\n",
       "        text-align: right;\n",
       "    }\n",
       "</style>\n",
       "<table border=\"1\" class=\"dataframe\">\n",
       "  <thead>\n",
       "    <tr style=\"text-align: right;\">\n",
       "      <th></th>\n",
       "      <th>Day</th>\n",
       "      <th>Month</th>\n",
       "      <th>Year</th>\n",
       "      <th>Customer_Age</th>\n",
       "      <th>Age_Group</th>\n",
       "      <th>Customer_Gender</th>\n",
       "      <th>Country</th>\n",
       "      <th>State</th>\n",
       "      <th>Product_Category</th>\n",
       "      <th>Sub_Category</th>\n",
       "      <th>Product</th>\n",
       "      <th>Order_Quantity</th>\n",
       "      <th>Unit_Cost</th>\n",
       "      <th>Unit_Price</th>\n",
       "      <th>Profit</th>\n",
       "      <th>Cost</th>\n",
       "      <th>Revenue</th>\n",
       "      <th>Cluster</th>\n",
       "    </tr>\n",
       "  </thead>\n",
       "  <tbody>\n",
       "    <tr>\n",
       "      <th>0</th>\n",
       "      <td>26</td>\n",
       "      <td>November</td>\n",
       "      <td>2013</td>\n",
       "      <td>19</td>\n",
       "      <td>Youth (&lt;25)</td>\n",
       "      <td>Male</td>\n",
       "      <td>Canada</td>\n",
       "      <td>British Columbia</td>\n",
       "      <td>Accessories</td>\n",
       "      <td>Bike Racks</td>\n",
       "      <td>Hitch Rack - 4-Bike</td>\n",
       "      <td>8</td>\n",
       "      <td>45</td>\n",
       "      <td>120</td>\n",
       "      <td>590</td>\n",
       "      <td>360</td>\n",
       "      <td>960</td>\n",
       "      <td>0</td>\n",
       "    </tr>\n",
       "    <tr>\n",
       "      <th>1</th>\n",
       "      <td>26</td>\n",
       "      <td>November</td>\n",
       "      <td>2015</td>\n",
       "      <td>19</td>\n",
       "      <td>Youth (&lt;25)</td>\n",
       "      <td>Male</td>\n",
       "      <td>Canada</td>\n",
       "      <td>British Columbia</td>\n",
       "      <td>Accessories</td>\n",
       "      <td>Bike Racks</td>\n",
       "      <td>Hitch Rack - 4-Bike</td>\n",
       "      <td>8</td>\n",
       "      <td>45</td>\n",
       "      <td>120</td>\n",
       "      <td>590</td>\n",
       "      <td>360</td>\n",
       "      <td>960</td>\n",
       "      <td>0</td>\n",
       "    </tr>\n",
       "    <tr>\n",
       "      <th>2</th>\n",
       "      <td>23</td>\n",
       "      <td>March</td>\n",
       "      <td>2014</td>\n",
       "      <td>49</td>\n",
       "      <td>Adults (35-64)</td>\n",
       "      <td>Male</td>\n",
       "      <td>Australia</td>\n",
       "      <td>New South Wales</td>\n",
       "      <td>Accessories</td>\n",
       "      <td>Bike Racks</td>\n",
       "      <td>Hitch Rack - 4-Bike</td>\n",
       "      <td>23</td>\n",
       "      <td>45</td>\n",
       "      <td>120</td>\n",
       "      <td>1366</td>\n",
       "      <td>1035</td>\n",
       "      <td>2760</td>\n",
       "      <td>1</td>\n",
       "    </tr>\n",
       "    <tr>\n",
       "      <th>3</th>\n",
       "      <td>23</td>\n",
       "      <td>March</td>\n",
       "      <td>2016</td>\n",
       "      <td>49</td>\n",
       "      <td>Adults (35-64)</td>\n",
       "      <td>Male</td>\n",
       "      <td>Australia</td>\n",
       "      <td>New South Wales</td>\n",
       "      <td>Accessories</td>\n",
       "      <td>Bike Racks</td>\n",
       "      <td>Hitch Rack - 4-Bike</td>\n",
       "      <td>20</td>\n",
       "      <td>45</td>\n",
       "      <td>120</td>\n",
       "      <td>1188</td>\n",
       "      <td>900</td>\n",
       "      <td>2400</td>\n",
       "      <td>0</td>\n",
       "    </tr>\n",
       "    <tr>\n",
       "      <th>4</th>\n",
       "      <td>15</td>\n",
       "      <td>May</td>\n",
       "      <td>2014</td>\n",
       "      <td>47</td>\n",
       "      <td>Adults (35-64)</td>\n",
       "      <td>Female</td>\n",
       "      <td>Australia</td>\n",
       "      <td>New South Wales</td>\n",
       "      <td>Accessories</td>\n",
       "      <td>Bike Racks</td>\n",
       "      <td>Hitch Rack - 4-Bike</td>\n",
       "      <td>4</td>\n",
       "      <td>45</td>\n",
       "      <td>120</td>\n",
       "      <td>238</td>\n",
       "      <td>180</td>\n",
       "      <td>480</td>\n",
       "      <td>0</td>\n",
       "    </tr>\n",
       "  </tbody>\n",
       "</table>\n",
       "</div>"
      ],
      "text/plain": [
       "   Day     Month  Year  Customer_Age       Age_Group Customer_Gender  \\\n",
       "0   26  November  2013            19     Youth (<25)            Male   \n",
       "1   26  November  2015            19     Youth (<25)            Male   \n",
       "2   23     March  2014            49  Adults (35-64)            Male   \n",
       "3   23     March  2016            49  Adults (35-64)            Male   \n",
       "4   15       May  2014            47  Adults (35-64)          Female   \n",
       "\n",
       "     Country             State Product_Category Sub_Category  \\\n",
       "0     Canada  British Columbia      Accessories   Bike Racks   \n",
       "1     Canada  British Columbia      Accessories   Bike Racks   \n",
       "2  Australia   New South Wales      Accessories   Bike Racks   \n",
       "3  Australia   New South Wales      Accessories   Bike Racks   \n",
       "4  Australia   New South Wales      Accessories   Bike Racks   \n",
       "\n",
       "               Product  Order_Quantity  Unit_Cost  Unit_Price  Profit  Cost  \\\n",
       "0  Hitch Rack - 4-Bike               8         45         120     590   360   \n",
       "1  Hitch Rack - 4-Bike               8         45         120     590   360   \n",
       "2  Hitch Rack - 4-Bike              23         45         120    1366  1035   \n",
       "3  Hitch Rack - 4-Bike              20         45         120    1188   900   \n",
       "4  Hitch Rack - 4-Bike               4         45         120     238   180   \n",
       "\n",
       "   Revenue  Cluster  \n",
       "0      960        0  \n",
       "1      960        0  \n",
       "2     2760        1  \n",
       "3     2400        0  \n",
       "4      480        0  "
      ]
     },
     "execution_count": 24,
     "metadata": {},
     "output_type": "execute_result"
    }
   ],
   "source": [
    "df.head()"
   ]
  },
  {
   "cell_type": "code",
   "execution_count": null,
   "id": "1cf22b5b",
   "metadata": {},
   "outputs": [],
   "source": []
  }
 ],
 "metadata": {
  "kernelspec": {
   "display_name": "Python 3 (ipykernel)",
   "language": "python",
   "name": "python3"
  },
  "language_info": {
   "codemirror_mode": {
    "name": "ipython",
    "version": 3
   },
   "file_extension": ".py",
   "mimetype": "text/x-python",
   "name": "python",
   "nbconvert_exporter": "python",
   "pygments_lexer": "ipython3",
   "version": "3.9.12"
  }
 },
 "nbformat": 4,
 "nbformat_minor": 5
}
